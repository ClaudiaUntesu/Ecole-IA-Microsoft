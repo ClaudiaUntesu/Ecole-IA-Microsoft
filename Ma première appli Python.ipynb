{
 "cells": [
  {
   "cell_type": "markdown",
   "metadata": {},
   "source": [
    "Objectifs:\n",
    "\n",
    "-Implémenter une application qui répond à un cahier de charge spécifique\n",
    "\n",
    "-prendre en main la syntaxe python"
   ]
  },
  {
   "cell_type": "markdown",
   "metadata": {},
   "source": [
    "Projet1: Fizz Buzz\n",
    "- Écrire un programme qui imprime les numéros de 1 à 100. Mais pour les multiples de\n",
    "trois imprimer \"Fizz\" au lieu du nombre et pour les multiples de cinq imprimer \"Buzz\".\n",
    "Pour les nombres qui sont des multiples de trois et cinq imprimer \"FizzBuzz\"."
   ]
  },
  {
   "cell_type": "code",
   "execution_count": 1,
   "metadata": {},
   "outputs": [
    {
     "name": "stdout",
     "output_type": "stream",
     "text": [
      "1\n",
      "2\n",
      "Fizz\n",
      "4\n",
      "Buzz\n",
      "Fizz\n",
      "7\n",
      "8\n",
      "Fizz\n",
      "Buzz\n",
      "11\n",
      "Fizz\n",
      "13\n",
      "14\n",
      "FizzBuzz\n",
      "16\n",
      "17\n",
      "Fizz\n",
      "19\n",
      "Buzz\n",
      "Fizz\n",
      "22\n",
      "23\n",
      "Fizz\n",
      "Buzz\n",
      "26\n",
      "Fizz\n",
      "28\n",
      "29\n",
      "FizzBuzz\n",
      "31\n",
      "32\n",
      "Fizz\n",
      "34\n",
      "Buzz\n",
      "Fizz\n",
      "37\n",
      "38\n",
      "Fizz\n",
      "Buzz\n",
      "41\n",
      "Fizz\n",
      "43\n",
      "44\n",
      "FizzBuzz\n",
      "46\n",
      "47\n",
      "Fizz\n",
      "49\n",
      "Buzz\n",
      "Fizz\n",
      "52\n",
      "53\n",
      "Fizz\n",
      "Buzz\n",
      "56\n",
      "Fizz\n",
      "58\n",
      "59\n",
      "FizzBuzz\n",
      "61\n",
      "62\n",
      "Fizz\n",
      "64\n",
      "Buzz\n",
      "Fizz\n",
      "67\n",
      "68\n",
      "Fizz\n",
      "Buzz\n",
      "71\n",
      "Fizz\n",
      "73\n",
      "74\n",
      "FizzBuzz\n",
      "76\n",
      "77\n",
      "Fizz\n",
      "79\n",
      "Buzz\n",
      "Fizz\n",
      "82\n",
      "83\n",
      "Fizz\n",
      "Buzz\n",
      "86\n",
      "Fizz\n",
      "88\n",
      "89\n",
      "FizzBuzz\n",
      "91\n",
      "92\n",
      "Fizz\n",
      "94\n",
      "Buzz\n",
      "Fizz\n",
      "97\n",
      "98\n",
      "Fizz\n",
      "Buzz\n"
     ]
    }
   ],
   "source": [
    "nbListe = range(1,101)                      # definir la liste, 1 première élém.\n",
    "for nb in nbListe:                          # boucle sur la liste\n",
    "    if nb % 3 == 0 and nb % 5 == 0:         # les nombres div par 3 et 5\n",
    "        print(\"FizzBuzz\")\n",
    "        continue                            # pour avancer dans la boucle et chercher les autres conditions\n",
    "    elif nb % 3 == 0:\n",
    "        print(\"Fizz\")\n",
    "    elif nb % 5 == 0:\n",
    "        print(\"Buzz\")\n",
    "    else:                                   # les nombres qui ne corespond aux conditions\n",
    "        print(str(nb))\n"
   ]
  },
  {
   "cell_type": "markdown",
   "metadata": {},
   "source": [
    "Projet 2: Compter les mots dans une chaîne\n",
    "- Compte le nombre de mots individuels dans une chaîne. Pour plus de complexité lire\n",
    "ces chaînes à partir d'un fichier texte et générer un summary."
   ]
  },
  {
   "cell_type": "markdown",
   "metadata": {},
   "source": [
    "On fait un fichier .txt sous Windows. On commence  notre code par ouvrir le fichier en mode lecture et manipuler en mode texte"
   ]
  },
  {
   "cell_type": "code",
   "execution_count": 3,
   "metadata": {},
   "outputs": [
    {
     "name": "stdout",
     "output_type": "stream",
     "text": [
      "Projet Ma première appli Python\n",
      "\n",
      "Objectifs:\n",
      "-Implémenter une application qui répond à un cahier de charge spécifique\n",
      "-prendre en main la syntaxe python\n",
      "\n",
      "projet1: Fizz Buzz\n",
      "- Écrire un programme qui imprime les numéros de 1 à 100. Mais pour les multiples de\n",
      "trois imprimer \"Fizz\" au lieu du nombre et pour les multiples de cinq imprimer \"Buzz\".\n",
      "Pour les nombres qui sont des multiples de trois et cinq imprimer \"FizzBuzz\".\n",
      "\n",
      "Projet 2: Compter les mots dans une chaîne\n",
      "- Compte le nombre de mots individuels dans une chaîne. Pour plus de complexité lire\n",
      "ces chaînes à partir d'un fichier texte et générer un summary.\n"
     ]
    },
    {
     "data": {
      "text/plain": [
       "<function TextIOWrapper.close()>"
      ]
     },
     "execution_count": 3,
     "metadata": {},
     "output_type": "execute_result"
    }
   ],
   "source": [
    "file = open(r\"C:\\Users\\claud\\Desktop\\DEV IA\\text.txt\",  encoding='UTF-8')\n",
    "data = file.read()\n",
    "print(data)\n",
    "file.close"
   ]
  },
  {
   "cell_type": "markdown",
   "metadata": {},
   "source": [
    "Si on utilise pas encoding = 'UTF-8' les accents ne sont pas affichés et le texte n'est pas lisible. En encodage unicode UTF-8 les caractères spéciaux occidentaux sont tous codés sur deux octets. Une chaîne de caractères n’est pas stockée en mémoire sous forme de chaîne de caractères mais plutôt sous forme de 0 et de 1 binaires.\n",
    "\n",
    "La représentation la plus lisible pour nous de ce code binaire est l’hexadécimal. Chaque octet représente un unique caractère en ASCII ou en ASCII étendu.\n",
    "\n",
    "\n",
    "\n",
    "\n",
    "\n",
    "\n",
    "Pour compter les mots dans la chaîne/ fichier txtUtiliser le module RegEx.\n",
    "\n",
    "L’expression \n",
    "régulière, regex ou regexp en abrégé, est un outil très puissant pour rechercher et manipuler des chaînes de texte ; cela peut être utilisé pour le prétraitement des données, à des fins de validation, pour trouver un modèle dans une chaîne de texte, etc.Regex peut également aider à compter les mots dans une chaîne de texte dans les scénarios où il y a des signes de ponctuation ou des caractères spéciaux\n",
    "qui ne sont pas nécessaires. \n",
    "\n",
    "Regex est un package Python intégré, il suffit donc d’importer le package re pour commencer à l’utiliser.\n"
   ]
  },
  {
   "cell_type": "code",
   "execution_count": 11,
   "metadata": {},
   "outputs": [],
   "source": [
    "import re"
   ]
  },
  {
   "cell_type": "code",
   "execution_count": 13,
   "metadata": {},
   "outputs": [
    {
     "name": "stdout",
     "output_type": "stream",
     "text": [
      "Nous avons 104 mots.\n"
     ]
    }
   ],
   "source": [
    "word = len(re.findall(r'\\w+', data))\n",
    "print(\"Nous avons \" + str(word) + \" mots.\")"
   ]
  },
  {
   "cell_type": "markdown",
   "metadata": {},
   "source": [
    "\\W Correspond à tout caractère qui n'est pas un mot. Si code ASCII est utilisé, cela devient l'équivalent de [^a-zA-Z0-9_]. Si l'indicateur LOCALE est utilisé, correspond aux caractères qui ne sont ni alphanumériques dans les paramètres régionaux actuels ni le trait de soulignement."
   ]
  },
  {
   "cell_type": "markdown",
   "metadata": {},
   "source": [
    "Utiliser la méthode count() pour compter le nombre d’occurrences trouvées compte tenu de la sous-chaîne. Pour cette méthode, peu importe que la sous-chaîne soit un mot entier, une phrase, une lettre ou toute combinaison de caractères ou de chiffres. Dans ce cas, nous utilisons des mots."
   ]
  },
  {
   "cell_type": "code",
   "execution_count": 21,
   "metadata": {},
   "outputs": [
    {
     "name": "stdout",
     "output_type": "stream",
     "text": [
      "Projet : 2\n",
      "Ma : 1\n",
      "première : 1\n",
      "appli : 1\n",
      "Python : 1\n",
      "Objectifs : 1\n",
      "Implémenter : 1\n",
      "une : 3\n",
      "application : 1\n",
      "qui : 3\n",
      "répond : 1\n",
      "à : 3\n",
      "un : 4\n",
      "cahier : 1\n",
      "de : 7\n",
      "charge : 1\n",
      "spécifique : 1\n",
      "prendre : 1\n",
      "en : 1\n",
      "main : 1\n",
      "la : 1\n",
      "syntaxe : 1\n",
      "python : 1\n",
      "projet1 : 1\n",
      "Fizz : 2\n",
      "Buzz : 2\n",
      "Écrire : 1\n",
      "un : 4\n",
      "programme : 1\n",
      "qui : 3\n",
      "imprime : 1\n",
      "les : 5\n",
      "numéros : 1\n",
      "de : 7\n",
      "1 : 1\n",
      "à : 3\n",
      "100 : 1\n",
      "Mais : 1\n",
      "pour : 2\n",
      "les : 5\n",
      "multiples : 3\n",
      "de : 7\n",
      "trois : 2\n",
      "imprimer : 3\n",
      "Fizz : 2\n",
      "au : 1\n",
      "lieu : 1\n",
      "du : 1\n",
      "nombre : 2\n",
      "et : 3\n",
      "pour : 2\n",
      "les : 5\n",
      "multiples : 3\n",
      "de : 7\n",
      "cinq : 2\n",
      "imprimer : 3\n",
      "Buzz : 2\n",
      "Pour : 2\n",
      "les : 5\n",
      "nombres : 1\n",
      "qui : 3\n",
      "sont : 1\n",
      "des : 1\n",
      "multiples : 3\n",
      "de : 7\n",
      "trois : 2\n",
      "et : 3\n",
      "cinq : 2\n",
      "imprimer : 3\n",
      "FizzBuzz : 1\n",
      "Projet : 2\n",
      "2 : 1\n",
      "Compter : 1\n",
      "les : 5\n",
      "mots : 2\n",
      "dans : 2\n",
      "une : 3\n",
      "chaîne : 2\n",
      "Compte : 1\n",
      "le : 1\n",
      "nombre : 2\n",
      "de : 7\n",
      "mots : 2\n",
      "individuels : 1\n",
      "dans : 2\n",
      "une : 3\n",
      "chaîne : 2\n",
      "Pour : 2\n",
      "plus : 1\n",
      "de : 7\n",
      "complexité : 1\n",
      "lire : 1\n",
      "ces : 1\n",
      "chaînes : 1\n",
      "à : 3\n",
      "partir : 1\n",
      "d : 1\n",
      "un : 4\n",
      "fichier : 1\n",
      "texte : 1\n",
      "et : 3\n",
      "générer : 1\n",
      "un : 4\n",
      "summary : 1\n",
      "Nombre de mots sans cartéres speciaux 104\n",
      "Nombre de mots sans doublon 68\n"
     ]
    }
   ],
   "source": [
    "Mots = re.findall(r'\\w+', data)\n",
    "# ou on peut utiliser .split()\n",
    "# Mots = data.split()\n",
    "\n",
    "for i in range(len(Mots)):\n",
    "    print(Mots[i], \":\", Mots.count(Mots[i]))\n",
    " \n",
    "    if not Mots[i].isalnum(): \n",
    "        Mots.remove(Mots[i])\n",
    "print(\"Nombre de mots sans cartéres speciaux\", len(Mots)) # une autre méthode de trover les mots\n",
    "  \n",
    "nbMots = set(Mots)\n",
    "print(\"Nombre de mots sans doublon\", len(nbMots))   "
   ]
  }
 ],
 "metadata": {
  "kernelspec": {
   "display_name": "Python 3.10.4 64-bit",
   "language": "python",
   "name": "python3"
  },
  "language_info": {
   "codemirror_mode": {
    "name": "ipython",
    "version": 3
   },
   "file_extension": ".py",
   "mimetype": "text/x-python",
   "name": "python",
   "nbconvert_exporter": "python",
   "pygments_lexer": "ipython3",
   "version": "3.10.4"
  },
  "orig_nbformat": 4,
  "vscode": {
   "interpreter": {
    "hash": "26de051ba29f2982a8de78e945f0abaf191376122a1563185a90213a26c5da77"
   }
  }
 },
 "nbformat": 4,
 "nbformat_minor": 2
}
